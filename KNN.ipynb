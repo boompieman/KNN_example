{
 "cells": [
  {
   "cell_type": "code",
   "execution_count": 2,
   "metadata": {
    "collapsed": false
   },
   "outputs": [
    {
     "data": {
      "text/plain": [
       "'\\n\\xe7\\xb0\\xa1\\xe6\\x98\\x93KNN sample\\xe5\\x88\\x86\\xe6\\x9e\\x90, \\xe5\\x8f\\x83\\xe8\\x80\\x83\\xef\\xbc\\x9ahttp://enginebai.logdown.com/posts/241676/knn \\xe6\\xad\\xa4\\xe7\\xaf\\x87\\xe6\\x96\\x87\\xe7\\xab\\xa0\\xe5\\x87\\xba\\xe4\\xbe\\x86\\xe7\\x9a\\x84\\n'"
      ]
     },
     "execution_count": 2,
     "metadata": {},
     "output_type": "execute_result"
    }
   ],
   "source": [
    "# encoding: utf-8\n",
    "import math\n",
    "\"\"\"\n",
    "簡易KNN sample分析, 參考：http://enginebai.logdown.com/posts/241676/knn 此篇文章出來的\n",
    "\"\"\""
   ]
  },
  {
   "cell_type": "code",
   "execution_count": 4,
   "metadata": {
    "collapsed": true
   },
   "outputs": [],
   "source": [
    "def create_trainset():\n",
    "    \"\"\"\n",
    "    產生訓練樣本\n",
    "    \"\"\"\n",
    "    trainset_data = dict()\n",
    "    trainset_data['Lexus'] = (15, 25, 0, 5, 8, 3)\n",
    "    trainset_data['BMW'] = (35, 40, 1, 3, 3, 2)\n",
    "    trainset_data['iphone'] = (5, 0, 35, 50, 0, 0)\n",
    "    trainset_data['htc'] = (1, 5, 32, 15, 0, 0)\n",
    "    trainset_data['Lebron James'] = (10, 5, 7, 0, 2, 30)\n",
    "    trainset_data['Jeremy Lin'] = (5, 5, 5, 15, 8, 32)\n",
    "    \n",
    "    \"\"\"\n",
    "    產生訓練樣本所屬類別\n",
    "    \"\"\"\n",
    "    trainset_class = dict()\n",
    "    trainset_class['Lexus'] = 'Car'\n",
    "    trainset_class['BMW'] = 'Car'\n",
    "    trainset_class['iphone'] = 'Phone'\n",
    "    trainset_class['htc'] = 'Phone'\n",
    "    trainset_class['Lebron James'] = 'Basketball'\n",
    "    trainset_class['Jeremy Lin'] = 'Basketball'\n",
    "    \n",
    "    return trainset_data,trainset_class"
   ]
  },
  {
   "cell_type": "code",
   "execution_count": 5,
   "metadata": {
    "collapsed": false
   },
   "outputs": [],
   "source": [
    "def cosine_sim(v1,v2):\n",
    "    \"\"\"\n",
    "    計算每兩個向量間的Cosine距離，距離越近，相似度越高\n",
    "    簡易公式複習：xyz.../(x^2+y^2+z^2+...)^1/2\n",
    "    \"\"\"\n",
    "    sum_xx = 0.0\n",
    "    sum_xy = 0.0\n",
    "    sum_yy = 0.0\n",
    "    \n",
    "    #運用math library\n",
    "    for i in range(len(v1)):\n",
    "        sum_xx += math.pow(v1[i],2)\n",
    "        sum_yy += math.pow(v2[i],2)\n",
    "        sum_xy += v1[i]*v2[i]\n",
    "    return sum_xy/math.sqrt(sum_xx*sum_yy)"
   ]
  },
  {
   "cell_type": "code",
   "execution_count": 1,
   "metadata": {
    "collapsed": false
   },
   "outputs": [],
   "source": [
    "def KNN_algorithm(input_data,trainset_data,trainset_class,k):\n",
    "    \"\"\"\n",
    "    KNN演算法\n",
    "    1. 計算每個train data與欲計算data的距離\n",
    "    2. 選定Ｋ值\n",
    "    3. 接著在Ｋ個相近點投票，選定欲計算的data屬於哪個分類\n",
    "    4. 印出結果\n",
    "    \"\"\"\n",
    "\n",
    "    distance = dict()\n",
    "\n",
    "    print '1. 計算每個距離:'\n",
    "    for i in trainset_data:\n",
    "        distance[i] = cosine_sim(trainset_data[i],input_data)\n",
    "    for name in distance:\n",
    "        print name,\":\", distance[name]\n",
    "        \n",
    "    print '' #空格\n",
    "    print '2. 取K個最近鄰居的分類, k = ', k,':'\n",
    "    class_k = dict()\n",
    "\n",
    "    rank = sorted(distance,key = distance.get,reverse = True) #由大到小排列好\n",
    "\n",
    "    for count in range(len(rank)):\n",
    "        class_k[count] = trainset_class[rank[count]]\n",
    "        print 'similarity(',rank[count],') = ',distance[rank[count]],',class:',class_k[count]\n",
    "        if count+1 >= k:\n",
    "            break\n",
    "            \n",
    "    print ''\n",
    "    print '3. 決定票數和決定分類:'\n",
    "    result = dict()\n",
    "    ctr_phone, ctr_car, ctr_basketball = 0,0,0 #這邊應該要再修改得更漂亮，但我想不出來\n",
    "\n",
    "    for i in range(len(class_k)):\n",
    "\n",
    "        if 'Phone' in class_k.get(i):\n",
    "            ctr_phone +=1\n",
    "        result['Phone'] = ctr_phone\n",
    "\n",
    "        if 'Car' in class_k.get(i):\n",
    "            ctr_car += 1\n",
    "        result['Car'] = ctr_car\n",
    "\n",
    "        if 'Basketball' in class_k.get(i):\n",
    "            ctr_basketball += 1\n",
    "        result['Basketball'] = ctr_basketball\n",
    "    print result\n",
    "    for name in result:\n",
    "        print name,\":\",result[name]\n",
    "        \n",
    "    final_result = ''\n",
    "    if (k % 2 != 0):   \n",
    "        for i in enumerate(sorted(result,key = result.get,reverse = True)):\n",
    "            if i[0] == 0:\n",
    "                final_result = i[1]\n",
    "                \n",
    "    print ''\n",
    "    print \"4. 輸入的資料分類為:\",final_result"
   ]
  },
  {
   "cell_type": "code",
   "execution_count": 134,
   "metadata": {
    "collapsed": false
   },
   "outputs": [
    {
     "name": "stdout",
     "output_type": "stream",
     "text": [
      "1. 計算每個距離:\n",
      "htc : 0.199623468507\n",
      "Lebron James : 0.384655472602\n",
      "iphone : 0.177082703227\n",
      "Lexus : 0.968116601399\n",
      "Jeremy Lin : 0.32266144518\n",
      "BMW : 0.995179992364\n",
      "\n",
      "2. 取K個最近鄰居的分類, k =  3 :\n",
      "similarity( BMW ) =  0.995179992364 ,class: Car\n",
      "similarity( Lexus ) =  0.968116601399 ,class: Car\n",
      "similarity( Lebron James ) =  0.384655472602 ,class: Basketball\n",
      "\n",
      "3. 決定票數和決定分類:\n",
      "{'Phone': 0, 'Basketball': 1, 'Car': 2}\n",
      "Phone : 0\n",
      "Basketball : 1\n",
      "Car : 2\n",
      "\n",
      "5. 輸入的資料分類為: Car\n"
     ]
    }
   ],
   "source": [
    "if __name__ == '__main__':\n",
    "    \n",
    "    input_data = (50, 55, 2, 10, 8, 5)\n",
    "    trainset_data,trainset_class = create_trainset()\n",
    "    KNN_algorithm(input_data,trainset_data,trainset_class,k = 3)"
   ]
  }
 ],
 "metadata": {
  "kernelspec": {
   "display_name": "Python 2",
   "language": "python",
   "name": "python2"
  },
  "language_info": {
   "codemirror_mode": {
    "name": "ipython",
    "version": 2
   },
   "file_extension": ".py",
   "mimetype": "text/x-python",
   "name": "python",
   "nbconvert_exporter": "python",
   "pygments_lexer": "ipython2",
   "version": "2.7.6"
  }
 },
 "nbformat": 4,
 "nbformat_minor": 0
}
